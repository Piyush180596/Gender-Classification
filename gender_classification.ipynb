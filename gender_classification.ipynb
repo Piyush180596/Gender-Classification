{
 "cells": [
  {
   "cell_type": "code",
   "execution_count": 3,
   "metadata": {},
   "outputs": [],
   "source": [
    "import numpy as np\n",
    "import os\n",
    "from sklearn.model_selection import train_test_split\n",
    "from keras.preprocessing.image import img_to_array,ImageDataGenerator\n",
    "from PIL import Image\n",
    "from keras.layers import *\n",
    "from keras.utils import to_categorical\n",
    "from keras.models import Sequential, Model\n",
    "from keras.models import Model, load_model, Sequential\n",
    "from keras.optimizers import SGD,Adam\n",
    "from keras.layers.core import Activation\n",
    "from keras.layers.core import Flatten\n",
    "from keras.layers.core import Dense\n",
    "from keras.models import model_from_json\n",
    "import matplotlib.pyplot as plt"
   ]
  },
  {
   "cell_type": "code",
   "execution_count": 2,
   "metadata": {},
   "outputs": [],
   "source": [
    "image_files=[]\n",
    "path = os.path.join(os.getcwd(),'gender_dataset_face','gender_dataset_face\\\\')\n",
    "for root, dirs, files in os.walk(path+'man'):\n",
    "        for file_ in files:\n",
    "            if(file_.split('.')[1]=='jpg'):\n",
    "                image_files.append(os.path.join(root, file_))\n",
    "                \n",
    "for root, dirs, files in os.walk(path+'woman'):\n",
    "        for file_ in files:\n",
    "            if(file_.split('.')[1]=='jpg'):\n",
    "                image_files.append(os.path.join(root, file_))"
   ]
  },
  {
   "cell_type": "code",
   "execution_count": 3,
   "metadata": {},
   "outputs": [
    {
     "data": {
      "text/plain": [
       "'C:\\\\Users\\\\piyush.chaudhari\\\\Documents\\\\Gender Classification\\\\gender_dataset_face\\\\gender_dataset_face\\\\woman\\\\face_999.jpg'"
      ]
     },
     "execution_count": 3,
     "metadata": {},
     "output_type": "execute_result"
    }
   ],
   "source": [
    "image_files[-1]"
   ]
  },
  {
   "cell_type": "code",
   "execution_count": 4,
   "metadata": {},
   "outputs": [],
   "source": [
    "def preprocess(image_path):\n",
    "    img = Image.open(image_path)\n",
    "    img = img.resize((96,96), Image.ANTIALIAS)\n",
    "    img = img_to_array(img)\n",
    "    img = (img - 128) / 128\n",
    "    return img"
   ]
  },
  {
   "cell_type": "code",
   "execution_count": 5,
   "metadata": {},
   "outputs": [],
   "source": [
    "def list2np(l, size):\n",
    "    n = np.array(l)\n",
    "    return(n.reshape((size,)+img_shape))"
   ]
  },
  {
   "cell_type": "code",
   "execution_count": 6,
   "metadata": {},
   "outputs": [],
   "source": [
    "images = list()\n",
    "labels = list()\n",
    "for image in image_files:\n",
    "    img = preprocess(image)\n",
    "    images.append(img)\n",
    "    \n",
    "    label = image.split('\\\\')[-2]\n",
    "    if(label == 'woman'):\n",
    "        label = 1\n",
    "    else:\n",
    "        label = 0\n",
    "    labels.append([label])"
   ]
  },
  {
   "cell_type": "code",
   "execution_count": 7,
   "metadata": {},
   "outputs": [],
   "source": [
    "img_size = 96\n",
    "img_shape = (img_size, img_size, 3)\n",
    "images = list2np(images,len(images))"
   ]
  },
  {
   "cell_type": "code",
   "execution_count": 8,
   "metadata": {},
   "outputs": [
    {
     "data": {
      "text/plain": [
       "((2307, 96, 96, 3), numpy.ndarray)"
      ]
     },
     "execution_count": 8,
     "metadata": {},
     "output_type": "execute_result"
    }
   ],
   "source": [
    "images.shape,type(images)"
   ]
  },
  {
   "cell_type": "code",
   "execution_count": 9,
   "metadata": {},
   "outputs": [
    {
     "data": {
      "text/plain": [
       "((2307, 1), numpy.ndarray)"
      ]
     },
     "execution_count": 9,
     "metadata": {},
     "output_type": "execute_result"
    }
   ],
   "source": [
    "labels = np.array(labels)\n",
    "labels.shape,type(labels)"
   ]
  },
  {
   "cell_type": "code",
   "execution_count": 10,
   "metadata": {},
   "outputs": [
    {
     "data": {
      "text/plain": [
       "(dtype('float32'), dtype('int32'))"
      ]
     },
     "execution_count": 10,
     "metadata": {},
     "output_type": "execute_result"
    }
   ],
   "source": [
    "images.dtype,labels.dtype"
   ]
  },
  {
   "cell_type": "code",
   "execution_count": 11,
   "metadata": {},
   "outputs": [],
   "source": [
    "X_train,X_test,y_train,y_test = train_test_split(images, labels, test_size=0.2,random_state=42)\n",
    "y_train = to_categorical(y_train, num_classes=2)\n",
    "y_test= to_categorical(y_test, num_classes=2)"
   ]
  },
  {
   "cell_type": "code",
   "execution_count": 20,
   "metadata": {},
   "outputs": [],
   "source": [
    "model = Sequential()\n",
    "model.add(Conv2D(32, (3,3), padding=\"same\", input_shape=(96,96,3),activation='relu'))\n",
    "model.add(MaxPooling2D(pool_size=(3,3)))\n",
    "\n",
    "model.add(Conv2D(32, (3,3), padding=\"same\",activation='relu'))\n",
    "model.add(MaxPooling2D(pool_size=(3,3)))\n",
    "\n",
    "model.add(Flatten())\n",
    "model.add(Dense(128,activation='relu'))\n",
    "\n",
    "model.add(Dense(2,activation='sigmoid'))"
   ]
  },
  {
   "cell_type": "code",
   "execution_count": 34,
   "metadata": {},
   "outputs": [
    {
     "name": "stdout",
     "output_type": "stream",
     "text": [
      "_________________________________________________________________\n",
      "Layer (type)                 Output Shape              Param #   \n",
      "=================================================================\n",
      "conv2d_13 (Conv2D)           (None, 96, 96, 32)        896       \n",
      "_________________________________________________________________\n",
      "max_pooling2d_9 (MaxPooling2 (None, 32, 32, 32)        0         \n",
      "_________________________________________________________________\n",
      "conv2d_14 (Conv2D)           (None, 32, 32, 32)        9248      \n",
      "_________________________________________________________________\n",
      "max_pooling2d_10 (MaxPooling (None, 10, 10, 32)        0         \n",
      "_________________________________________________________________\n",
      "flatten_3 (Flatten)          (None, 3200)              0         \n",
      "_________________________________________________________________\n",
      "dense_9 (Dense)              (None, 128)               409728    \n",
      "_________________________________________________________________\n",
      "dense_10 (Dense)             (None, 2)                 258       \n",
      "=================================================================\n",
      "Total params: 420,130\n",
      "Trainable params: 420,130\n",
      "Non-trainable params: 0\n",
      "_________________________________________________________________\n"
     ]
    }
   ],
   "source": [
    "model.summary()"
   ]
  },
  {
   "cell_type": "code",
   "execution_count": 35,
   "metadata": {},
   "outputs": [],
   "source": [
    "train_datagen = ImageDataGenerator(rescale = 1./255,\n",
    "                                   shear_range = 0.2,\n",
    "                                   zoom_range = 0.2,\n",
    "                                   horizontal_flip = True)"
   ]
  },
  {
   "cell_type": "code",
   "execution_count": 36,
   "metadata": {},
   "outputs": [
    {
     "name": "stdout",
     "output_type": "stream",
     "text": [
      "Epoch 1/50\n",
      "29/29 [==============================] - 57s 2s/step - loss: 0.6855 - acc: 0.5709 - val_loss: 0.7816 - val_acc: 0.7749\n",
      "Epoch 2/50\n",
      "29/29 [==============================] - 54s 2s/step - loss: 0.6680 - acc: 0.6783 - val_loss: 2.0369 - val_acc: 0.7662\n",
      "Epoch 3/50\n",
      "29/29 [==============================] - 53s 2s/step - loss: 0.6353 - acc: 0.6999 - val_loss: 3.3237 - val_acc: 0.7532\n",
      "Epoch 4/50\n",
      "29/29 [==============================] - 54s 2s/step - loss: 0.5830 - acc: 0.7311 - val_loss: 3.7157 - val_acc: 0.7435\n",
      "Epoch 5/50\n",
      "29/29 [==============================] - 52s 2s/step - loss: 0.5459 - acc: 0.7443 - val_loss: 3.5260 - val_acc: 0.7684\n",
      "Epoch 6/50\n",
      "29/29 [==============================] - 54s 2s/step - loss: 0.5179 - acc: 0.7567 - val_loss: 3.2914 - val_acc: 0.7738\n",
      "Epoch 7/50\n",
      "29/29 [==============================] - 54s 2s/step - loss: 0.5058 - acc: 0.7675 - val_loss: 3.4161 - val_acc: 0.7749\n",
      "Epoch 8/50\n",
      "29/29 [==============================] - 54s 2s/step - loss: 0.4948 - acc: 0.7563 - val_loss: 3.0038 - val_acc: 0.7911\n",
      "Epoch 9/50\n",
      "29/29 [==============================] - 56s 2s/step - loss: 0.4715 - acc: 0.7891 - val_loss: 3.0563 - val_acc: 0.7998\n",
      "Epoch 10/50\n",
      "29/29 [==============================] - 54s 2s/step - loss: 0.4674 - acc: 0.7806 - val_loss: 3.3970 - val_acc: 0.7706\n",
      "Epoch 11/50\n",
      "29/29 [==============================] - 53s 2s/step - loss: 0.4736 - acc: 0.7747 - val_loss: 2.8154 - val_acc: 0.8128\n",
      "Epoch 12/50\n",
      "29/29 [==============================] - 50s 2s/step - loss: 0.4578 - acc: 0.7893 - val_loss: 2.8427 - val_acc: 0.8139\n",
      "Epoch 13/50\n",
      "29/29 [==============================] - 47s 2s/step - loss: 0.4597 - acc: 0.7742 - val_loss: 2.8272 - val_acc: 0.8117\n",
      "Epoch 14/50\n",
      "29/29 [==============================] - 46s 2s/step - loss: 0.4477 - acc: 0.7911 - val_loss: 2.8953 - val_acc: 0.8063\n",
      "Epoch 15/50\n",
      "29/29 [==============================] - 47s 2s/step - loss: 0.4535 - acc: 0.7916 - val_loss: 2.6259 - val_acc: 0.8236\n",
      "Epoch 16/50\n",
      "29/29 [==============================] - 47s 2s/step - loss: 0.4431 - acc: 0.7968 - val_loss: 2.8341 - val_acc: 0.8160\n",
      "Epoch 17/50\n",
      "29/29 [==============================] - 45s 2s/step - loss: 0.4428 - acc: 0.7907 - val_loss: 2.9409 - val_acc: 0.8063\n",
      "Epoch 18/50\n",
      "29/29 [==============================] - 47s 2s/step - loss: 0.4356 - acc: 0.8020 - val_loss: 2.7654 - val_acc: 0.8182\n",
      "Epoch 19/50\n",
      "29/29 [==============================] - 46s 2s/step - loss: 0.4304 - acc: 0.8068 - val_loss: 2.5071 - val_acc: 0.8268\n",
      "Epoch 20/50\n",
      "29/29 [==============================] - 46s 2s/step - loss: 0.4282 - acc: 0.8036 - val_loss: 3.0055 - val_acc: 0.7998\n",
      "Epoch 21/50\n",
      "29/29 [==============================] - 46s 2s/step - loss: 0.4218 - acc: 0.8147 - val_loss: 2.8548 - val_acc: 0.8171\n",
      "Epoch 22/50\n",
      "29/29 [==============================] - 46s 2s/step - loss: 0.4169 - acc: 0.8143 - val_loss: 2.7918 - val_acc: 0.8182\n",
      "Epoch 23/50\n",
      "29/29 [==============================] - 46s 2s/step - loss: 0.4210 - acc: 0.8025 - val_loss: 2.7710 - val_acc: 0.8214\n",
      "Epoch 24/50\n",
      "29/29 [==============================] - 45s 2s/step - loss: 0.4156 - acc: 0.8104 - val_loss: 2.7724 - val_acc: 0.8193\n",
      "Epoch 25/50\n",
      "29/29 [==============================] - 46s 2s/step - loss: 0.4048 - acc: 0.8170 - val_loss: 2.7199 - val_acc: 0.8258\n",
      "Epoch 26/50\n",
      "29/29 [==============================] - 47s 2s/step - loss: 0.4131 - acc: 0.8143 - val_loss: 3.0607 - val_acc: 0.8030\n",
      "Epoch 27/50\n",
      "29/29 [==============================] - 46s 2s/step - loss: 0.3976 - acc: 0.8233 - val_loss: 2.8751 - val_acc: 0.8149\n",
      "Epoch 28/50\n",
      "29/29 [==============================] - 45s 2s/step - loss: 0.4101 - acc: 0.8128 - val_loss: 2.7061 - val_acc: 0.8258\n",
      "Epoch 29/50\n",
      "29/29 [==============================] - 45s 2s/step - loss: 0.4045 - acc: 0.8146 - val_loss: 2.5236 - val_acc: 0.8377\n",
      "Epoch 30/50\n",
      "29/29 [==============================] - 47s 2s/step - loss: 0.3945 - acc: 0.8177 - val_loss: 2.7320 - val_acc: 0.8214\n",
      "Epoch 31/50\n",
      "29/29 [==============================] - 45s 2s/step - loss: 0.3948 - acc: 0.8155 - val_loss: 2.6273 - val_acc: 0.8344\n",
      "Epoch 32/50\n",
      "29/29 [==============================] - 45s 2s/step - loss: 0.3944 - acc: 0.8252 - val_loss: 2.5492 - val_acc: 0.8333\n",
      "Epoch 33/50\n",
      "29/29 [==============================] - 46s 2s/step - loss: 0.3786 - acc: 0.8372 - val_loss: 2.9713 - val_acc: 0.8084\n",
      "Epoch 34/50\n",
      "29/29 [==============================] - 45s 2s/step - loss: 0.3771 - acc: 0.8280 - val_loss: 3.0946 - val_acc: 0.8030\n",
      "Epoch 35/50\n",
      "29/29 [==============================] - 47s 2s/step - loss: 0.3861 - acc: 0.8367 - val_loss: 2.9264 - val_acc: 0.8074\n",
      "Epoch 36/50\n",
      "29/29 [==============================] - 46s 2s/step - loss: 0.3804 - acc: 0.8250 - val_loss: 2.7371 - val_acc: 0.8268\n",
      "Epoch 37/50\n",
      "29/29 [==============================] - 45s 2s/step - loss: 0.3822 - acc: 0.8316 - val_loss: 2.8821 - val_acc: 0.8139\n",
      "Epoch 38/50\n",
      "29/29 [==============================] - 46s 2s/step - loss: 0.3778 - acc: 0.8389 - val_loss: 2.8056 - val_acc: 0.8214\n",
      "Epoch 39/50\n",
      "29/29 [==============================] - 45s 2s/step - loss: 0.3712 - acc: 0.8390 - val_loss: 2.9080 - val_acc: 0.8128\n",
      "Epoch 40/50\n",
      "29/29 [==============================] - 46s 2s/step - loss: 0.3560 - acc: 0.8405 - val_loss: 2.7552 - val_acc: 0.8236\n",
      "Epoch 41/50\n",
      "29/29 [==============================] - 46s 2s/step - loss: 0.3627 - acc: 0.8411 - val_loss: 2.8879 - val_acc: 0.8139\n",
      "Epoch 42/50\n",
      "29/29 [==============================] - 46s 2s/step - loss: 0.3563 - acc: 0.8363 - val_loss: 2.7259 - val_acc: 0.8279\n",
      "Epoch 43/50\n",
      "29/29 [==============================] - 46s 2s/step - loss: 0.3579 - acc: 0.8435 - val_loss: 2.8171 - val_acc: 0.8149\n",
      "Epoch 44/50\n",
      "29/29 [==============================] - 48s 2s/step - loss: 0.3531 - acc: 0.8419 - val_loss: 2.7742 - val_acc: 0.8203\n",
      "Epoch 45/50\n",
      "29/29 [==============================] - 46s 2s/step - loss: 0.3680 - acc: 0.8357 - val_loss: 2.8055 - val_acc: 0.8160\n",
      "Epoch 46/50\n",
      "29/29 [==============================] - 46s 2s/step - loss: 0.3529 - acc: 0.8561 - val_loss: 2.6966 - val_acc: 0.8279\n",
      "Epoch 47/50\n",
      "29/29 [==============================] - 46s 2s/step - loss: 0.3520 - acc: 0.8335 - val_loss: 2.7172 - val_acc: 0.8247\n",
      "Epoch 48/50\n",
      "29/29 [==============================] - 46s 2s/step - loss: 0.3421 - acc: 0.8607 - val_loss: 2.8266 - val_acc: 0.8160\n",
      "Epoch 49/50\n",
      "29/29 [==============================] - 46s 2s/step - loss: 0.3435 - acc: 0.8546 - val_loss: 2.6647 - val_acc: 0.8290\n",
      "Epoch 50/50\n",
      "29/29 [==============================] - 46s 2s/step - loss: 0.3424 - acc: 0.8533 - val_loss: 2.6729 - val_acc: 0.8279\n"
     ]
    }
   ],
   "source": [
    "opt = Adam(lr=0.0002, beta_1=0.5,clipvalue = 1)\n",
    "model.compile(loss='binary_crossentropy', optimizer=opt,metrics=['accuracy'])\n",
    "#model_history = model.fit(X_train,y_train,validation_data=(X_test,y_test),epochs=2,verbose=1)\n",
    "model_history = model.fit_generator(train_datagen.flow(X_train,y_train,batch_size=64),validation_data=(X_test,y_test),epochs=50,verbose=1)"
   ]
  },
  {
   "cell_type": "code",
   "execution_count": 37,
   "metadata": {},
   "outputs": [
    {
     "name": "stdout",
     "output_type": "stream",
     "text": [
      "Model saved\n"
     ]
    }
   ],
   "source": [
    "model_json = model.to_json()\n",
    "with open(\"gender_classification_model.json\",\"w\") as json_file:\n",
    "    json_file.write(model_json)\n",
    "\n",
    "model.save_weights(\"gender_classification_model.h5\")\n",
    "print(\"Model saved\")"
   ]
  },
  {
   "cell_type": "code",
   "execution_count": 49,
   "metadata": {},
   "outputs": [
    {
     "data": {
      "text/plain": [
       "{'epochs': 50,\n",
       " 'steps': 29,\n",
       " 'verbose': 1,\n",
       " 'do_validation': True,\n",
       " 'metrics': ['loss', 'acc', 'val_loss', 'val_acc']}"
      ]
     },
     "execution_count": 49,
     "metadata": {},
     "output_type": "execute_result"
    }
   ],
   "source": [
    "model_history.params"
   ]
  },
  {
   "cell_type": "code",
   "execution_count": 50,
   "metadata": {},
   "outputs": [
    {
     "data": {
      "text/plain": [
       "{'val_loss': [0.7816326255664164,\n",
       "  2.0369021985437965,\n",
       "  3.3237485183781876,\n",
       "  3.7156602593211385,\n",
       "  3.5260300994951486,\n",
       "  3.291410396109412,\n",
       "  3.416053653279424,\n",
       "  3.0038133663532536,\n",
       "  3.0562982172160953,\n",
       "  3.397021805569207,\n",
       "  2.8154201326948223,\n",
       "  2.842701065075862,\n",
       "  2.8271577316961247,\n",
       "  2.8952922212097034,\n",
       "  2.62591814994812,\n",
       "  2.834131113894574,\n",
       "  2.9409055967867634,\n",
       "  2.7653663406124362,\n",
       "  2.507121843951089,\n",
       "  3.0054940361997264,\n",
       "  2.8548395530486004,\n",
       "  2.7918478038919954,\n",
       "  2.770994587894126,\n",
       "  2.7724221764188823,\n",
       "  2.719932899846659,\n",
       "  3.0606885441453944,\n",
       "  2.8750662174059713,\n",
       "  2.7061353214891444,\n",
       "  2.523572794802777,\n",
       "  2.731959042869089,\n",
       "  2.6272584132817918,\n",
       "  2.549246021163412,\n",
       "  2.971287266000525,\n",
       "  3.094588619289976,\n",
       "  2.926420448146341,\n",
       "  2.737127738597589,\n",
       "  2.8821037393627744,\n",
       "  2.8055591139442475,\n",
       "  2.9080080769278784,\n",
       "  2.755173568601732,\n",
       "  2.8879203435146445,\n",
       "  2.7258630531690855,\n",
       "  2.8171402706212296,\n",
       "  2.774232632412023,\n",
       "  2.805450861588185,\n",
       "  2.696566970833452,\n",
       "  2.717163792936317,\n",
       "  2.826591661998204,\n",
       "  2.6647483332332595,\n",
       "  2.6728674622325155],\n",
       " 'val_acc': [0.7748917743757173,\n",
       "  0.766233766491795,\n",
       "  0.7532467540208395,\n",
       "  0.743506492990436,\n",
       "  0.7683982676241821,\n",
       "  0.7738095230354375,\n",
       "  0.7748917741176886,\n",
       "  0.7911255403514549,\n",
       "  0.7997835490094635,\n",
       "  0.7705627697886843,\n",
       "  0.8127705619964765,\n",
       "  0.8138528141108426,\n",
       "  0.8116883119463405,\n",
       "  0.8062770565350851,\n",
       "  0.8235930738511024,\n",
       "  0.8160173162753448,\n",
       "  0.8062770565350851,\n",
       "  0.8181818184398469,\n",
       "  0.8268398263237693,\n",
       "  0.7997835500415785,\n",
       "  0.8170995673575958,\n",
       "  0.8181818184398469,\n",
       "  0.8214285716866002,\n",
       "  0.8192640695220981,\n",
       "  0.8257575760156045,\n",
       "  0.8030303032883318,\n",
       "  0.8149350651930937,\n",
       "  0.8257575760156045,\n",
       "  0.8376623379203664,\n",
       "  0.8214285648488379,\n",
       "  0.8344155846736132,\n",
       "  0.8333333335913621,\n",
       "  0.8084415586995872,\n",
       "  0.8030303032883318,\n",
       "  0.8073593076173361,\n",
       "  0.8268398270978556,\n",
       "  0.8138528141108426,\n",
       "  0.8214285716866002,\n",
       "  0.8127705630285915,\n",
       "  0.8235930738511024,\n",
       "  0.8138528141108426,\n",
       "  0.8279220781801067,\n",
       "  0.8149350651930937,\n",
       "  0.8203463248618237,\n",
       "  0.8160173162753448,\n",
       "  0.8279220781801067,\n",
       "  0.8246753249333535,\n",
       "  0.8160173162753448,\n",
       "  0.8290043292623578,\n",
       "  0.8279220781801067],\n",
       " 'loss': [0.6855180362698832,\n",
       "  0.6679378064667306,\n",
       "  0.6353094568420555,\n",
       "  0.5829575379366474,\n",
       "  0.5461374025357771,\n",
       "  0.5180364709559495,\n",
       "  0.5059658936207211,\n",
       "  0.49472987923195694,\n",
       "  0.4719403830001025,\n",
       "  0.4674575715530209,\n",
       "  0.4737273076362403,\n",
       "  0.4577454226449899,\n",
       "  0.4594805433336635,\n",
       "  0.4475765179166303,\n",
       "  0.45360182510805,\n",
       "  0.44281478480594916,\n",
       "  0.4428854964128355,\n",
       "  0.4354812932208302,\n",
       "  0.43075162873358586,\n",
       "  0.42810547269456756,\n",
       "  0.42118812728380445,\n",
       "  0.41681735069771125,\n",
       "  0.42109475964453164,\n",
       "  0.4158957208559765,\n",
       "  0.40464554185143653,\n",
       "  0.4130423614003148,\n",
       "  0.39816433427133535,\n",
       "  0.40900345737048927,\n",
       "  0.40480400529011157,\n",
       "  0.39466889335857175,\n",
       "  0.39469783737407466,\n",
       "  0.3942205203742516,\n",
       "  0.37839312341801196,\n",
       "  0.37753613468431196,\n",
       "  0.385790311789448,\n",
       "  0.38079408710888085,\n",
       "  0.38257237790722837,\n",
       "  0.37818438531906623,\n",
       "  0.37111743068307396,\n",
       "  0.3561129233701442,\n",
       "  0.36307182811140043,\n",
       "  0.35686872181530566,\n",
       "  0.3578763639377708,\n",
       "  0.3529179034194326,\n",
       "  0.36853845826978604,\n",
       "  0.3533615358153656,\n",
       "  0.35157630567951254,\n",
       "  0.341889806750021,\n",
       "  0.343280101016285,\n",
       "  0.3418546561141647],\n",
       " 'acc': [0.5710027104793849,\n",
       "  0.6777777770347388,\n",
       "  0.7002710021285183,\n",
       "  0.7306233070084073,\n",
       "  0.7441734416374992,\n",
       "  0.7566395662987458,\n",
       "  0.7672086728620658,\n",
       "  0.7560975604587131,\n",
       "  0.7888888892442554,\n",
       "  0.7802168021034096,\n",
       "  0.7742547424828133,\n",
       "  0.789159892374261,\n",
       "  0.7747967482582341,\n",
       "  0.7913279136021932,\n",
       "  0.7915989154722632,\n",
       "  0.7967479682550198,\n",
       "  0.7907859077621605,\n",
       "  0.8021680215832987,\n",
       "  0.8067750685260224,\n",
       "  0.8037940378434613,\n",
       "  0.8149051489545724,\n",
       "  0.8140921408567972,\n",
       "  0.8024390251655888,\n",
       "  0.8102981033363963,\n",
       "  0.8170731715070523,\n",
       "  0.8143631444067813,\n",
       "  0.8227642276099704,\n",
       "  0.8135501357921093,\n",
       "  0.8143631435668243,\n",
       "  0.817886178344892,\n",
       "  0.8157181570846537,\n",
       "  0.8252032523878867,\n",
       "  0.8371273712091006,\n",
       "  0.8276422772304153,\n",
       "  0.8368563693390306,\n",
       "  0.8246612474201171,\n",
       "  0.831436313878553,\n",
       "  0.8387533870492847,\n",
       "  0.8390243905992689,\n",
       "  0.8406504062133107,\n",
       "  0.8409214087295015,\n",
       "  0.8360433612412553,\n",
       "  0.8433604331197454,\n",
       "  0.8420054204095669,\n",
       "  0.835230352271217,\n",
       "  0.8558265580071344,\n",
       "  0.8336043357526061,\n",
       "  0.8607046065614798,\n",
       "  0.8547425477808407,\n",
       "  0.8533875342307052]}"
      ]
     },
     "execution_count": 50,
     "metadata": {},
     "output_type": "execute_result"
    }
   ],
   "source": [
    "model_history.history"
   ]
  },
  {
   "cell_type": "code",
   "execution_count": 58,
   "metadata": {},
   "outputs": [
    {
     "data": {
      "text/plain": [
       "[<matplotlib.lines.Line2D at 0x19de6e52f60>]"
      ]
     },
     "execution_count": 58,
     "metadata": {},
     "output_type": "execute_result"
    },
    {
     "data": {
      "image/png": "[encoded data removed]",
      "text/plain": [
       "<Figure size 432x288 with 1 Axes>"
      ]
     },
     "metadata": {},
     "output_type": "display_data"
    }
   ],
   "source": [
    "epochs = 50\n",
    "train_loss = model_history.history['loss']\n",
    "val_loss   = model_history.history['val_loss']\n",
    "train_acc  = model_history.history['acc']\n",
    "val_acc    = model_history.history['val_acc']\n",
    "num_epochs = range(epochs)\n",
    "\n",
    "plt.figure()\n",
    "plt.plot(num_epochs, train_loss)\n",
    "plt.plot(num_epochs, val_loss)"
   ]
  },
  {
   "cell_type": "code",
   "execution_count": 59,
   "metadata": {},
   "outputs": [],
   "source": [
    "inp = model.input\n",
    "prediction = model.predict\n",
    "outputs = [layer.output for layer in model.layers]\n",
    "functors = [K.function([inp] + [prediction], [out]) for out in outputs]\n",
    "\n",
    "layer_outs = [func([X_test]) for func in functors]"
   ]
  },
  {
   "cell_type": "code",
   "execution_count": 60,
   "metadata": {},
   "outputs": [
    {
     "data": {
      "image/png": "[encoded data removed]",
      "text/plain": [
       "<Figure size 432x288 with 1 Axes>"
      ]
     },
     "metadata": {},
     "output_type": "display_data"
    }
   ],
   "source": [
    "for i in range(0,32):\n",
    "    plt.imshow(layer_outs[1][0][5,:,:,i])\n",
    "#     plt.savefig('temp_'+str(i)+'.jpg')"
   ]
  },
  {
   "cell_type": "code",
   "execution_count": 4,
   "metadata": {},
   "outputs": [
    {
     "name": "stdout",
     "output_type": "stream",
     "text": [
      "Loaded model from disk\n"
     ]
    }
   ],
   "source": [
    "json_file = open('gender_classification_model.json', 'r')\n",
    "loaded_model_json = json_file.read()\n",
    "json_file.close()\n",
    "loaded_model = model_from_json(loaded_model_json)\n",
    "loaded_model.load_weights(\"gender_classification_model.h5\")\n",
    "print(\"Loaded model from disk\")"
   ]
  },
  {
   "cell_type": "code",
   "execution_count": 5,
   "metadata": {},
   "outputs": [
    {
     "data": {
      "image/png": "[encoded data removed]",
      "text/plain": [
       "<Figure size 432x288 with 1 Axes>"
      ]
     },
     "metadata": {},
     "output_type": "display_data"
    }
   ],
   "source": [
    "import cv2\n",
    "image = cv2.imread(\"image.jpg\")\n",
    "plt.axis(\"off\")\n",
    "plt.imshow(image)\n",
    "plt.show()"
   ]
  },
  {
   "cell_type": "code",
   "execution_count": 17,
   "metadata": {},
   "outputs": [
    {
     "data": {
      "text/plain": [
       "['Man']"
      ]
     },
     "execution_count": 17,
     "metadata": {},
     "output_type": "execute_result"
    }
   ],
   "source": [
    "image = image.reshape(1,96,96,3)\n",
    "predicted_class = loaded_model.predict_classes(image)\n",
    "['Man' if i == 0 else 'Woman' for i in predicted_class]"
   ]
  },
  {
   "cell_type": "code",
   "execution_count": null,
   "metadata": {},
   "outputs": [],
   "source": []
  }
 ],
 "metadata": {
  "kernelspec": {
   "display_name": "Python 3",
   "language": "python",
   "name": "python3"
  },
  "language_info": {
   "codemirror_mode": {
    "name": "ipython",
    "version": 3
   },
   "file_extension": ".py",
   "mimetype": "text/x-python",
   "name": "python",
   "nbconvert_exporter": "python",
   "pygments_lexer": "ipython3",
   "version": "3.6.5"
  }
 },
 "nbformat": 4,
 "nbformat_minor": 2
}
